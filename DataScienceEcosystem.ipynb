{
 "cells": [
  {
   "cell_type": "markdown",
   "id": "062d2ffd-82c6-4859-9976-2c4b9da2240b",
   "metadata": {},
   "source": [
    "# Data Science Tools and Ecosystem"
   ]
  },
  {
   "cell_type": "markdown",
   "id": "e605b40a-cb5d-4b98-a8f4-cb39e5d406c8",
   "metadata": {},
   "source": [
    "In this notebook, Data Science Tools and Ecosystem are summarized."
   ]
  },
  {
   "cell_type": "markdown",
   "id": "e79e9e76-6812-426c-b607-e55b58947552",
   "metadata": {},
   "source": [
    "Some of the popular languages that Data Scientists use are:\n",
    "\n",
    "1. Python\n",
    "2. R\n",
    "3. SQL\n"
   ]
  },
  {
   "cell_type": "markdown",
   "id": "bc2422c5-0e5e-4822-86d0-cba64cb149a0",
   "metadata": {},
   "source": [
    "Some of the commonly used libraries used by Data Scientists include:\n",
    "\n",
    "1. NumPy\n",
    "2. Pandas\n",
    "3. Dask\n",
    "4. Vaex"
   ]
  },
  {
   "cell_type": "markdown",
   "id": "219a24cf-3ef0-4855-b23c-05aa6f7c80bc",
   "metadata": {},
   "source": [
    "| **Data Science Tools** |\n",
    "| ---------------------- |\n",
    "| Jupyter Notebook       |\n",
    "| RStudio                |\n",
    "| Apache Zeppelin        |\n"
   ]
  },
  {
   "cell_type": "markdown",
   "id": "7c3676f5-2122-478a-999a-ca90b1b22b27",
   "metadata": {},
   "source": [
    "### Below are a few examples of evaluating arithmetic expressions in Python.\n",
    "\n"
   ]
  },
  {
   "cell_type": "code",
   "execution_count": 4,
   "id": "1c8af9cc-2f2a-4cd0-8bcb-cd16d810cc5e",
   "metadata": {},
   "outputs": [
    {
     "data": {
      "text/plain": [
       "17"
      ]
     },
     "execution_count": 4,
     "metadata": {},
     "output_type": "execute_result"
    }
   ],
   "source": [
    "# This is a simple arithmetic expression to multiply then add integers\n",
    "(3 * 4) + 5\n"
   ]
  },
  {
   "cell_type": "code",
   "execution_count": 5,
   "id": "5ca12d1d-cd46-437f-9ec0-28aa2f5d6bb7",
   "metadata": {},
   "outputs": [
    {
     "data": {
      "text/plain": [
       "3.3333333333333335"
      ]
     },
     "execution_count": 5,
     "metadata": {},
     "output_type": "execute_result"
    }
   ],
   "source": [
    "# This will convert 200 minutes to hours by dividing by 60\n",
    "200 / 60\n"
   ]
  },
  {
   "cell_type": "markdown",
   "id": "61dd500e-03e8-4e7f-9df2-80acf05f42a8",
   "metadata": {},
   "source": [
    "**Objectives:**\n",
    "\n",
    "- List popular languages for Data Science  \n",
    "- Identify commonly used libraries in Data Science  \n",
    "- Describe open-source tools used in Data Science  \n",
    "- Demonstrate simple arithmetic expressions in Python  \n",
    "- Convert time units using Python expressions  \n"
   ]
  },
  {
   "cell_type": "markdown",
   "id": "5089cbb4-a0c4-4ac2-931e-945fc62e30e7",
   "metadata": {},
   "source": [
    "## Author\n",
    "\n",
    "Krishna Chaitanya BVS\n"
   ]
  },
  {
   "cell_type": "code",
   "execution_count": null,
   "id": "ceae8bf1-ffc9-44ea-a793-440bb3729cfb",
   "metadata": {},
   "outputs": [],
   "source": []
  }
 ],
 "metadata": {
  "kernelspec": {
   "display_name": "Python 3 (ipykernel)",
   "language": "python",
   "name": "python3"
  },
  "language_info": {
   "codemirror_mode": {
    "name": "ipython",
    "version": 3
   },
   "file_extension": ".py",
   "mimetype": "text/x-python",
   "name": "python",
   "nbconvert_exporter": "python",
   "pygments_lexer": "ipython3",
   "version": "3.12.8"
  }
 },
 "nbformat": 4,
 "nbformat_minor": 5
}
